{
 "cells": [
  {
   "cell_type": "markdown",
   "metadata": {
    "collapsed": false
   },
   "source": [
    "<h1>Building a Recommendation System in 10 Steps! Beginner Level</h1>"
   ]
  },
  {
   "cell_type": "markdown",
   "metadata": {
    "collapsed": false
   },
   "source": [
    "<h2>Step 1: Load the required packages</h2>"
   ]
  },
  {
   "cell_type": "code",
   "execution_count": 34,
   "metadata": {
    "collapsed": false
   },
   "outputs": [
   ],
   "source": [
    "import pandas as pd \n",
    "import numpy as np\n",
    "import warnings\n",
    "warnings.filterwarnings('ignore')"
   ]
  },
  {
   "cell_type": "markdown",
   "metadata": {
    "collapsed": false
   },
   "source": [
    "<h2>Step 2: Read your datasets</h2>\n",
    "\n",
    "The data that we need to develop this recommendation system is coming from two datasets:\n",
    "-  <b>ratings.csv</b>: This comma delimited file contains information about each user's rating profile\n",
    "-  <b>movies.csv</b>: This comma delimited file contains information about each movie, including title and genre\n",
    "\n",
    "Let's start by reading each file separatley and viewing a preview of its content."
   ]
  },
  {
   "cell_type": "code",
   "execution_count": 35,
   "metadata": {
    "collapsed": false
   },
   "outputs": [
   ],
   "source": [
    "#read ratings.csv file\n",
    "movie_ratings = pd.read_csv('/home/user/dataset/ratings.csv', sep=',')"
   ]
  },
  {
   "cell_type": "code",
   "execution_count": 36,
   "metadata": {
    "collapsed": false
   },
   "outputs": [
    {
     "data": {
      "text/html": [
       "<div>\n",
       "<style scoped>\n",
       "    .dataframe tbody tr th:only-of-type {\n",
       "        vertical-align: middle;\n",
       "    }\n",
       "\n",
       "    .dataframe tbody tr th {\n",
       "        vertical-align: top;\n",
       "    }\n",
       "\n",
       "    .dataframe thead th {\n",
       "        text-align: right;\n",
       "    }\n",
       "</style>\n",
       "<table border=\"1\" class=\"dataframe\">\n",
       "  <thead>\n",
       "    <tr style=\"text-align: right;\">\n",
       "      <th></th>\n",
       "      <th>userId</th>\n",
       "      <th>movieId</th>\n",
       "      <th>rating</th>\n",
       "      <th>timestamp</th>\n",
       "    </tr>\n",
       "  </thead>\n",
       "  <tbody>\n",
       "    <tr>\n",
       "      <th>0</th>\n",
       "      <td>1</td>\n",
       "      <td>1</td>\n",
       "      <td>4.0</td>\n",
       "      <td>964982703</td>\n",
       "    </tr>\n",
       "    <tr>\n",
       "      <th>1</th>\n",
       "      <td>1</td>\n",
       "      <td>3</td>\n",
       "      <td>4.0</td>\n",
       "      <td>964981247</td>\n",
       "    </tr>\n",
       "    <tr>\n",
       "      <th>2</th>\n",
       "      <td>1</td>\n",
       "      <td>6</td>\n",
       "      <td>4.0</td>\n",
       "      <td>964982224</td>\n",
       "    </tr>\n",
       "    <tr>\n",
       "      <th>3</th>\n",
       "      <td>1</td>\n",
       "      <td>47</td>\n",
       "      <td>5.0</td>\n",
       "      <td>964983815</td>\n",
       "    </tr>\n",
       "    <tr>\n",
       "      <th>4</th>\n",
       "      <td>1</td>\n",
       "      <td>50</td>\n",
       "      <td>5.0</td>\n",
       "      <td>964982931</td>\n",
       "    </tr>\n",
       "  </tbody>\n",
       "</table>\n",
       "</div>"
      ]
     },
     "execution_count": 36,
     "metadata": {
     },
     "output_type": "execute_result"
    }
   ],
   "source": [
    "#let's display the first few lines\n",
    "movie_ratings.head(5)"
   ]
  },
  {
   "cell_type": "code",
   "execution_count": 37,
   "metadata": {
    "collapsed": false
   },
   "outputs": [
    {
     "data": {
      "text/html": [
       "<div>\n",
       "<style scoped>\n",
       "    .dataframe tbody tr th:only-of-type {\n",
       "        vertical-align: middle;\n",
       "    }\n",
       "\n",
       "    .dataframe tbody tr th {\n",
       "        vertical-align: top;\n",
       "    }\n",
       "\n",
       "    .dataframe thead th {\n",
       "        text-align: right;\n",
       "    }\n",
       "</style>\n",
       "<table border=\"1\" class=\"dataframe\">\n",
       "  <thead>\n",
       "    <tr style=\"text-align: right;\">\n",
       "      <th></th>\n",
       "      <th>movieId</th>\n",
       "      <th>title</th>\n",
       "      <th>genres</th>\n",
       "    </tr>\n",
       "  </thead>\n",
       "  <tbody>\n",
       "    <tr>\n",
       "      <th>0</th>\n",
       "      <td>1</td>\n",
       "      <td>Toy Story (1995)</td>\n",
       "      <td>Adventure|Animation|Children|Comedy|Fantasy</td>\n",
       "    </tr>\n",
       "    <tr>\n",
       "      <th>1</th>\n",
       "      <td>2</td>\n",
       "      <td>Jumanji (1995)</td>\n",
       "      <td>Adventure|Children|Fantasy</td>\n",
       "    </tr>\n",
       "    <tr>\n",
       "      <th>2</th>\n",
       "      <td>3</td>\n",
       "      <td>Grumpier Old Men (1995)</td>\n",
       "      <td>Comedy|Romance</td>\n",
       "    </tr>\n",
       "    <tr>\n",
       "      <th>3</th>\n",
       "      <td>4</td>\n",
       "      <td>Waiting to Exhale (1995)</td>\n",
       "      <td>Comedy|Drama|Romance</td>\n",
       "    </tr>\n",
       "    <tr>\n",
       "      <th>4</th>\n",
       "      <td>5</td>\n",
       "      <td>Father of the Bride Part II (1995)</td>\n",
       "      <td>Comedy</td>\n",
       "    </tr>\n",
       "  </tbody>\n",
       "</table>\n",
       "</div>"
      ]
     },
     "execution_count": 37,
     "metadata": {
     },
     "output_type": "execute_result"
    }
   ],
   "source": [
    "#read movies.csv \n",
    "movie_titles = pd.read_csv('/home/user/dataset/movies.csv', sep=',')\n",
    "\n",
    "#display the first few lines\n",
    "movie_titles.head(5)"
   ]
  },
  {
   "cell_type": "markdown",
   "metadata": {
    "collapsed": true
   },
   "source": [
    "<h2>Step 3: Merge your datasets</h2>\n",
    "\n",
    "Since it is hard to work with movie IDs alone, we need to annotate the movie rating table with movie names. To do so, we can combine the above datasets. Whenever you merge datasets together, you need to find a column in common that can be used to perform the merging. What column do you think is common between the two?"
   ]
  },
  {
   "cell_type": "code",
   "execution_count": 39,
   "metadata": {
    "collapsed": false
   },
   "outputs": [
    {
     "data": {
      "text/html": [
       "<div>\n",
       "<style scoped>\n",
       "    .dataframe tbody tr th:only-of-type {\n",
       "        vertical-align: middle;\n",
       "    }\n",
       "\n",
       "    .dataframe tbody tr th {\n",
       "        vertical-align: top;\n",
       "    }\n",
       "\n",
       "    .dataframe thead th {\n",
       "        text-align: right;\n",
       "    }\n",
       "</style>\n",
       "<table border=\"1\" class=\"dataframe\">\n",
       "  <thead>\n",
       "    <tr style=\"text-align: right;\">\n",
       "      <th></th>\n",
       "      <th>userId</th>\n",
       "      <th>movieId</th>\n",
       "      <th>rating</th>\n",
       "      <th>timestamp</th>\n",
       "      <th>title</th>\n",
       "      <th>genres</th>\n",
       "    </tr>\n",
       "  </thead>\n",
       "  <tbody>\n",
       "    <tr>\n",
       "      <th>0</th>\n",
       "      <td>1</td>\n",
       "      <td>1</td>\n",
       "      <td>4.0</td>\n",
       "      <td>964982703</td>\n",
       "      <td>Toy Story (1995)</td>\n",
       "      <td>Adventure|Animation|Children|Comedy|Fantasy</td>\n",
       "    </tr>\n",
       "    <tr>\n",
       "      <th>1</th>\n",
       "      <td>5</td>\n",
       "      <td>1</td>\n",
       "      <td>4.0</td>\n",
       "      <td>847434962</td>\n",
       "      <td>Toy Story (1995)</td>\n",
       "      <td>Adventure|Animation|Children|Comedy|Fantasy</td>\n",
       "    </tr>\n",
       "    <tr>\n",
       "      <th>2</th>\n",
       "      <td>7</td>\n",
       "      <td>1</td>\n",
       "      <td>4.5</td>\n",
       "      <td>1106635946</td>\n",
       "      <td>Toy Story (1995)</td>\n",
       "      <td>Adventure|Animation|Children|Comedy|Fantasy</td>\n",
       "    </tr>\n",
       "    <tr>\n",
       "      <th>3</th>\n",
       "      <td>15</td>\n",
       "      <td>1</td>\n",
       "      <td>2.5</td>\n",
       "      <td>1510577970</td>\n",
       "      <td>Toy Story (1995)</td>\n",
       "      <td>Adventure|Animation|Children|Comedy|Fantasy</td>\n",
       "    </tr>\n",
       "    <tr>\n",
       "      <th>4</th>\n",
       "      <td>17</td>\n",
       "      <td>1</td>\n",
       "      <td>4.5</td>\n",
       "      <td>1305696483</td>\n",
       "      <td>Toy Story (1995)</td>\n",
       "      <td>Adventure|Animation|Children|Comedy|Fantasy</td>\n",
       "    </tr>\n",
       "  </tbody>\n",
       "</table>\n",
       "</div>"
      ]
     },
     "execution_count": 39,
     "metadata": {
     },
     "output_type": "execute_result"
    }
   ],
   "source": [
    "#use the merge function in pandas to merge the two data frames\n",
    "df = pd.merge(movie_ratings,movie_titles,on='movieId')\n",
    "\n",
    "#display the first few lines of the combined datasets to make sure that it worked properly\n",
    "df.head(5)"
   ]
  },
  {
   "cell_type": "code",
   "execution_count": 40,
   "metadata": {
    "collapsed": false
   },
   "outputs": [
    {
     "data": {
      "text/html": [
       "<div>\n",
       "<style scoped>\n",
       "    .dataframe tbody tr th:only-of-type {\n",
       "        vertical-align: middle;\n",
       "    }\n",
       "\n",
       "    .dataframe tbody tr th {\n",
       "        vertical-align: top;\n",
       "    }\n",
       "\n",
       "    .dataframe thead th {\n",
       "        text-align: right;\n",
       "    }\n",
       "</style>\n",
       "<table border=\"1\" class=\"dataframe\">\n",
       "  <thead>\n",
       "    <tr style=\"text-align: right;\">\n",
       "      <th></th>\n",
       "      <th>userId</th>\n",
       "      <th>movieId</th>\n",
       "      <th>rating</th>\n",
       "      <th>timestamp</th>\n",
       "    </tr>\n",
       "  </thead>\n",
       "  <tbody>\n",
       "    <tr>\n",
       "      <th>count</th>\n",
       "      <td>100836.000000</td>\n",
       "      <td>100836.000000</td>\n",
       "      <td>100836.000000</td>\n",
       "      <td>1.008360e+05</td>\n",
       "    </tr>\n",
       "    <tr>\n",
       "      <th>mean</th>\n",
       "      <td>326.127564</td>\n",
       "      <td>19435.295718</td>\n",
       "      <td>3.501557</td>\n",
       "      <td>1.205946e+09</td>\n",
       "    </tr>\n",
       "    <tr>\n",
       "      <th>std</th>\n",
       "      <td>182.618491</td>\n",
       "      <td>35530.987199</td>\n",
       "      <td>1.042529</td>\n",
       "      <td>2.162610e+08</td>\n",
       "    </tr>\n",
       "    <tr>\n",
       "      <th>min</th>\n",
       "      <td>1.000000</td>\n",
       "      <td>1.000000</td>\n",
       "      <td>0.500000</td>\n",
       "      <td>8.281246e+08</td>\n",
       "    </tr>\n",
       "    <tr>\n",
       "      <th>25%</th>\n",
       "      <td>177.000000</td>\n",
       "      <td>1199.000000</td>\n",
       "      <td>3.000000</td>\n",
       "      <td>1.019124e+09</td>\n",
       "    </tr>\n",
       "    <tr>\n",
       "      <th>50%</th>\n",
       "      <td>325.000000</td>\n",
       "      <td>2991.000000</td>\n",
       "      <td>3.500000</td>\n",
       "      <td>1.186087e+09</td>\n",
       "    </tr>\n",
       "    <tr>\n",
       "      <th>75%</th>\n",
       "      <td>477.000000</td>\n",
       "      <td>8122.000000</td>\n",
       "      <td>4.000000</td>\n",
       "      <td>1.435994e+09</td>\n",
       "    </tr>\n",
       "    <tr>\n",
       "      <th>max</th>\n",
       "      <td>610.000000</td>\n",
       "      <td>193609.000000</td>\n",
       "      <td>5.000000</td>\n",
       "      <td>1.537799e+09</td>\n",
       "    </tr>\n",
       "  </tbody>\n",
       "</table>\n",
       "</div>"
      ]
     },
     "execution_count": 40,
     "metadata": {
     },
     "output_type": "execute_result"
    }
   ],
   "source": [
    "#run the describe function to get an overview of each feature (example: minimum, maximum, range). Why is this useful? hint(outliers)\n",
    "df.describe()"
   ]
  },
  {
   "cell_type": "markdown",
   "metadata": {
    "collapsed": false
   },
   "source": [
    "<h2>Step 4: Create Summary Aggregations</h2>\n",
    "\n",
    "Now that we have one data frame that contains all the information we need to build the recommendation system. We can start playing around with the data to create some aggregations that we can use later in our recommendations. "
   ]
  },
  {
   "cell_type": "markdown",
   "metadata": {
    "collapsed": false
   },
   "source": [
    "<h3>Calculate Average Rating Per Movie</h3>\n",
    "\n",
    "To calculate the average rating per movie, we need to group the data frame by the <b>title</b> column and run the average function. What happens if we run the average without grouping? Hint (check section <b>3.5.3 Manupilating a Data Frame</b> from yesterday's notebook to help you answer this question)"
   ]
  },
  {
   "cell_type": "code",
   "execution_count": 43,
   "metadata": {
    "collapsed": false
   },
   "outputs": [
    {
     "data": {
      "text/plain": [
       "title\n",
       "'71 (2014)                                                                                  4.000000\n",
       "'Hellboy': The Seeds of Creation (2004)                                                     4.000000\n",
       "'Round Midnight (1986)                                                                      3.500000\n",
       "'Salem's Lot (2004)                                                                         5.000000\n",
       "'Til There Was You (1997)                                                                   4.000000\n",
       "'Tis the Season for Love (2015)                                                             1.500000\n",
       "'burbs, The (1989)                                                                          3.176471\n",
       "'night Mother (1986)                                                                        3.000000\n",
       "(500) Days of Summer (2009)                                                                 3.666667\n",
       "*batteries not included (1987)                                                              3.285714\n",
       "...All the Marbles (1981)                                                                   2.000000\n",
       "...And Justice for All (1979)                                                               3.166667\n",
       "00 Schneider - Jagd auf Nihil Baxter (1994)                                                 4.500000\n",
       "1-900 (06) (1994)                                                                           4.000000\n",
       "10 (1979)                                                                                   3.375000\n",
       "10 Cent Pistol (2015)                                                                       1.250000\n",
       "10 Cloverfield Lane (2016)                                                                  3.678571\n",
       "10 Items or Less (2006)                                                                     2.666667\n",
       "10 Things I Hate About You (1999)                                                           3.527778\n",
       "10 Years (2011)                                                                             3.500000\n",
       "10,000 BC (2008)                                                                            2.705882\n",
       "100 Girls (2000)                                                                            3.250000\n",
       "100 Streets (2016)                                                                          2.500000\n",
       "101 Dalmatians (1996)                                                                       3.074468\n",
       "101 Dalmatians (One Hundred and One Dalmatians) (1961)                                      3.431818\n",
       "101 Dalmatians II: Patch's London Adventure (2003)                                          2.500000\n",
       "101 Reykjavik (101 Reykjavík) (2000)                                                        3.500000\n",
       "102 Dalmatians (2000)                                                                       2.777778\n",
       "10th & Wolf (2006)                                                                          4.500000\n",
       "10th Kingdom, The (2000)                                                                    2.750000\n",
       "                                                                                              ...   \n",
       "Zero Dark Thirty (2012)                                                                     4.107143\n",
       "Zero Effect (1998)                                                                          3.966667\n",
       "Zero Theorem, The (2013)                                                                    3.000000\n",
       "Zero de conduite (Zero for Conduct) (Zéro de conduite: Jeunes diables au collège) (1933)    4.000000\n",
       "Zeus and Roxanne (1997)                                                                     1.000000\n",
       "Zipper (2015)                                                                               2.000000\n",
       "Zodiac (2007)                                                                               3.710526\n",
       "Zombeavers (2014)                                                                           2.500000\n",
       "Zombie (a.k.a. Zombie 2: The Dead Are Among Us) (Zombi 2) (1979)                            4.000000\n",
       "Zombie Strippers! (2008)                                                                    0.500000\n",
       "Zombieland (2009)                                                                           3.877358\n",
       "Zone 39 (1997)                                                                              2.000000\n",
       "Zone, The (La Zona) (2007)                                                                  3.500000\n",
       "Zookeeper (2011)                                                                            2.750000\n",
       "Zoolander (2001)                                                                            3.509259\n",
       "Zoolander 2 (2016)                                                                          2.500000\n",
       "Zoom (2006)                                                                                 2.500000\n",
       "Zoom (2015)                                                                                 2.500000\n",
       "Zootopia (2016)                                                                             3.890625\n",
       "Zulu (1964)                                                                                 4.000000\n",
       "Zulu (2013)                                                                                 1.500000\n",
       "[REC] (2007)                                                                                4.062500\n",
       "[REC]² (2009)                                                                               3.666667\n",
       "[REC]³ 3 Génesis (2012)                                                                     3.000000\n",
       "anohana: The Flower We Saw That Day - The Movie (2013)                                      3.000000\n",
       "eXistenZ (1999)                                                                             3.863636\n",
       "xXx (2002)                                                                                  2.770833\n",
       "xXx: State of the Union (2005)                                                              2.000000\n",
       "¡Three Amigos! (1986)                                                                       3.134615\n",
       "À nous la liberté (Freedom for Us) (1931)                                                   1.000000\n",
       "Name: rating, Length: 9719, dtype: float64"
      ]
     },
     "execution_count": 43,
     "metadata": {
     },
     "output_type": "execute_result"
    }
   ],
   "source": [
    "#calculate the average per title group\n",
    "df.groupby('title')['rating'].mean()"
   ]
  },
  {
   "cell_type": "code",
   "execution_count": 44,
   "metadata": {
    "collapsed": false
   },
   "outputs": [
    {
     "data": {
      "text/html": [
       "<div>\n",
       "<style scoped>\n",
       "    .dataframe tbody tr th:only-of-type {\n",
       "        vertical-align: middle;\n",
       "    }\n",
       "\n",
       "    .dataframe tbody tr th {\n",
       "        vertical-align: top;\n",
       "    }\n",
       "\n",
       "    .dataframe thead th {\n",
       "        text-align: right;\n",
       "    }\n",
       "</style>\n",
       "<table border=\"1\" class=\"dataframe\">\n",
       "  <thead>\n",
       "    <tr style=\"text-align: right;\">\n",
       "      <th></th>\n",
       "      <th>rating</th>\n",
       "    </tr>\n",
       "    <tr>\n",
       "      <th>title</th>\n",
       "      <th></th>\n",
       "    </tr>\n",
       "  </thead>\n",
       "  <tbody>\n",
       "    <tr>\n",
       "      <th>'71 (2014)</th>\n",
       "      <td>4.0</td>\n",
       "    </tr>\n",
       "    <tr>\n",
       "      <th>'Hellboy': The Seeds of Creation (2004)</th>\n",
       "      <td>4.0</td>\n",
       "    </tr>\n",
       "    <tr>\n",
       "      <th>'Round Midnight (1986)</th>\n",
       "      <td>3.5</td>\n",
       "    </tr>\n",
       "    <tr>\n",
       "      <th>'Salem's Lot (2004)</th>\n",
       "      <td>5.0</td>\n",
       "    </tr>\n",
       "    <tr>\n",
       "      <th>'Til There Was You (1997)</th>\n",
       "      <td>4.0</td>\n",
       "    </tr>\n",
       "  </tbody>\n",
       "</table>\n",
       "</div>"
      ]
     },
     "execution_count": 44,
     "metadata": {
     },
     "output_type": "execute_result"
    }
   ],
   "source": [
    "#let's save the above in a new data frame and call it 'ratings'\n",
    "ratings = pd.DataFrame(df.groupby('title')['rating'].mean())\n",
    "\n",
    "#display the first few lines. Doesn't it look neater?\n",
    "ratings.head(5)"
   ]
  },
  {
   "cell_type": "markdown",
   "metadata": {
    "collapsed": false
   },
   "source": [
    "<h3>Calculate Number of Ratings Per Movie</h3>\n",
    "\n",
    "In addition to finding the average rating per movie, we are also interested in finding out how many users rated each movie. This will be useful later if we want to maybe remove movies that have a very small number of ratings. We can't learn a lot from movies with very few ratings, therefore we sometimes remove them to avoid false recommendations. \n",
    "\n",
    "We can calculate the number of ratings per movie the same way we calculate the average, except now we use the <b>count</b> function. Hint (check section <b>3.5.3 Manupilating a Data Frame</b> from yesterday's notebook to help you answer this question)"
   ]
  },
  {
   "cell_type": "code",
   "execution_count": 45,
   "metadata": {
    "collapsed": false
   },
   "outputs": [
    {
     "data": {
      "text/plain": [
       "title\n",
       "'71 (2014)                                                                                   1\n",
       "'Hellboy': The Seeds of Creation (2004)                                                      1\n",
       "'Round Midnight (1986)                                                                       2\n",
       "'Salem's Lot (2004)                                                                          1\n",
       "'Til There Was You (1997)                                                                    2\n",
       "'Tis the Season for Love (2015)                                                              1\n",
       "'burbs, The (1989)                                                                          17\n",
       "'night Mother (1986)                                                                         1\n",
       "(500) Days of Summer (2009)                                                                 42\n",
       "*batteries not included (1987)                                                               7\n",
       "...All the Marbles (1981)                                                                    1\n",
       "...And Justice for All (1979)                                                                3\n",
       "00 Schneider - Jagd auf Nihil Baxter (1994)                                                  1\n",
       "1-900 (06) (1994)                                                                            1\n",
       "10 (1979)                                                                                    4\n",
       "10 Cent Pistol (2015)                                                                        2\n",
       "10 Cloverfield Lane (2016)                                                                  14\n",
       "10 Items or Less (2006)                                                                      3\n",
       "10 Things I Hate About You (1999)                                                           54\n",
       "10 Years (2011)                                                                              1\n",
       "10,000 BC (2008)                                                                            17\n",
       "100 Girls (2000)                                                                             4\n",
       "100 Streets (2016)                                                                           1\n",
       "101 Dalmatians (1996)                                                                       47\n",
       "101 Dalmatians (One Hundred and One Dalmatians) (1961)                                      44\n",
       "101 Dalmatians II: Patch's London Adventure (2003)                                           1\n",
       "101 Reykjavik (101 Reykjavík) (2000)                                                         1\n",
       "102 Dalmatians (2000)                                                                        9\n",
       "10th & Wolf (2006)                                                                           1\n",
       "10th Kingdom, The (2000)                                                                     2\n",
       "                                                                                            ..\n",
       "Zero Dark Thirty (2012)                                                                     14\n",
       "Zero Effect (1998)                                                                          15\n",
       "Zero Theorem, The (2013)                                                                     3\n",
       "Zero de conduite (Zero for Conduct) (Zéro de conduite: Jeunes diables au collège) (1933)     1\n",
       "Zeus and Roxanne (1997)                                                                      1\n",
       "Zipper (2015)                                                                                1\n",
       "Zodiac (2007)                                                                               38\n",
       "Zombeavers (2014)                                                                            2\n",
       "Zombie (a.k.a. Zombie 2: The Dead Are Among Us) (Zombi 2) (1979)                             2\n",
       "Zombie Strippers! (2008)                                                                     1\n",
       "Zombieland (2009)                                                                           53\n",
       "Zone 39 (1997)                                                                               1\n",
       "Zone, The (La Zona) (2007)                                                                   2\n",
       "Zookeeper (2011)                                                                             4\n",
       "Zoolander (2001)                                                                            54\n",
       "Zoolander 2 (2016)                                                                           3\n",
       "Zoom (2006)                                                                                  1\n",
       "Zoom (2015)                                                                                  1\n",
       "Zootopia (2016)                                                                             32\n",
       "Zulu (1964)                                                                                  4\n",
       "Zulu (2013)                                                                                  1\n",
       "[REC] (2007)                                                                                 8\n",
       "[REC]² (2009)                                                                                3\n",
       "[REC]³ 3 Génesis (2012)                                                                      2\n",
       "anohana: The Flower We Saw That Day - The Movie (2013)                                       1\n",
       "eXistenZ (1999)                                                                             22\n",
       "xXx (2002)                                                                                  24\n",
       "xXx: State of the Union (2005)                                                               5\n",
       "¡Three Amigos! (1986)                                                                       26\n",
       "À nous la liberté (Freedom for Us) (1931)                                                    1\n",
       "Name: rating, Length: 9719, dtype: int64"
      ]
     },
     "execution_count": 45,
     "metadata": {
     },
     "output_type": "execute_result"
    }
   ],
   "source": [
    "#calculate the count of ratings per movie\n",
    "df.groupby('title')['rating'].count()\n"
   ]
  },
  {
   "cell_type": "code",
   "execution_count": 46,
   "metadata": {
    "collapsed": false
   },
   "outputs": [
    {
     "data": {
      "text/html": [
       "<div>\n",
       "<style scoped>\n",
       "    .dataframe tbody tr th:only-of-type {\n",
       "        vertical-align: middle;\n",
       "    }\n",
       "\n",
       "    .dataframe tbody tr th {\n",
       "        vertical-align: top;\n",
       "    }\n",
       "\n",
       "    .dataframe thead th {\n",
       "        text-align: right;\n",
       "    }\n",
       "</style>\n",
       "<table border=\"1\" class=\"dataframe\">\n",
       "  <thead>\n",
       "    <tr style=\"text-align: right;\">\n",
       "      <th></th>\n",
       "      <th>rating</th>\n",
       "      <th>number_of_ratings</th>\n",
       "    </tr>\n",
       "    <tr>\n",
       "      <th>title</th>\n",
       "      <th></th>\n",
       "      <th></th>\n",
       "    </tr>\n",
       "  </thead>\n",
       "  <tbody>\n",
       "    <tr>\n",
       "      <th>'71 (2014)</th>\n",
       "      <td>4.0</td>\n",
       "      <td>1</td>\n",
       "    </tr>\n",
       "    <tr>\n",
       "      <th>'Hellboy': The Seeds of Creation (2004)</th>\n",
       "      <td>4.0</td>\n",
       "      <td>1</td>\n",
       "    </tr>\n",
       "    <tr>\n",
       "      <th>'Round Midnight (1986)</th>\n",
       "      <td>3.5</td>\n",
       "      <td>2</td>\n",
       "    </tr>\n",
       "    <tr>\n",
       "      <th>'Salem's Lot (2004)</th>\n",
       "      <td>5.0</td>\n",
       "      <td>1</td>\n",
       "    </tr>\n",
       "    <tr>\n",
       "      <th>'Til There Was You (1997)</th>\n",
       "      <td>4.0</td>\n",
       "      <td>2</td>\n",
       "    </tr>\n",
       "  </tbody>\n",
       "</table>\n",
       "</div>"
      ]
     },
     "execution_count": 46,
     "metadata": {
     },
     "output_type": "execute_result"
    }
   ],
   "source": [
    "#let's add the above information as a column to 'ratings' data frame and call this column 'number_of_ratings'\n",
    "ratings['number_of_ratings'] = df.groupby('title')['rating'].count()\n",
    "\n",
    "#display the first few lines of ratings (you should be able to see the new column we just added)\n",
    "ratings.head(5)"
   ]
  },
  {
   "cell_type": "markdown",
   "metadata": {
    "collapsed": false
   },
   "source": [
    "<h3>Sort 'Ratings' Data Frame by The Number of Ratings</h3>"
   ]
  },
  {
   "cell_type": "code",
   "execution_count": 48,
   "metadata": {
    "collapsed": false
   },
   "outputs": [
    {
     "data": {
      "text/html": [
       "<div>\n",
       "<style scoped>\n",
       "    .dataframe tbody tr th:only-of-type {\n",
       "        vertical-align: middle;\n",
       "    }\n",
       "\n",
       "    .dataframe tbody tr th {\n",
       "        vertical-align: top;\n",
       "    }\n",
       "\n",
       "    .dataframe thead th {\n",
       "        text-align: right;\n",
       "    }\n",
       "</style>\n",
       "<table border=\"1\" class=\"dataframe\">\n",
       "  <thead>\n",
       "    <tr style=\"text-align: right;\">\n",
       "      <th></th>\n",
       "      <th>rating</th>\n",
       "      <th>number_of_ratings</th>\n",
       "    </tr>\n",
       "    <tr>\n",
       "      <th>title</th>\n",
       "      <th></th>\n",
       "      <th></th>\n",
       "    </tr>\n",
       "  </thead>\n",
       "  <tbody>\n",
       "    <tr>\n",
       "      <th>Forrest Gump (1994)</th>\n",
       "      <td>4.164134</td>\n",
       "      <td>329</td>\n",
       "    </tr>\n",
       "    <tr>\n",
       "      <th>Shawshank Redemption, The (1994)</th>\n",
       "      <td>4.429022</td>\n",
       "      <td>317</td>\n",
       "    </tr>\n",
       "    <tr>\n",
       "      <th>Pulp Fiction (1994)</th>\n",
       "      <td>4.197068</td>\n",
       "      <td>307</td>\n",
       "    </tr>\n",
       "    <tr>\n",
       "      <th>Silence of the Lambs, The (1991)</th>\n",
       "      <td>4.161290</td>\n",
       "      <td>279</td>\n",
       "    </tr>\n",
       "    <tr>\n",
       "      <th>Matrix, The (1999)</th>\n",
       "      <td>4.192446</td>\n",
       "      <td>278</td>\n",
       "    </tr>\n",
       "    <tr>\n",
       "      <th>Star Wars: Episode IV - A New Hope (1977)</th>\n",
       "      <td>4.231076</td>\n",
       "      <td>251</td>\n",
       "    </tr>\n",
       "    <tr>\n",
       "      <th>Jurassic Park (1993)</th>\n",
       "      <td>3.750000</td>\n",
       "      <td>238</td>\n",
       "    </tr>\n",
       "    <tr>\n",
       "      <th>Braveheart (1995)</th>\n",
       "      <td>4.031646</td>\n",
       "      <td>237</td>\n",
       "    </tr>\n",
       "    <tr>\n",
       "      <th>Terminator 2: Judgment Day (1991)</th>\n",
       "      <td>3.970982</td>\n",
       "      <td>224</td>\n",
       "    </tr>\n",
       "    <tr>\n",
       "      <th>Schindler's List (1993)</th>\n",
       "      <td>4.225000</td>\n",
       "      <td>220</td>\n",
       "    </tr>\n",
       "    <tr>\n",
       "      <th>Fight Club (1999)</th>\n",
       "      <td>4.272936</td>\n",
       "      <td>218</td>\n",
       "    </tr>\n",
       "    <tr>\n",
       "      <th>Toy Story (1995)</th>\n",
       "      <td>3.920930</td>\n",
       "      <td>215</td>\n",
       "    </tr>\n",
       "    <tr>\n",
       "      <th>Star Wars: Episode V - The Empire Strikes Back (1980)</th>\n",
       "      <td>4.215640</td>\n",
       "      <td>211</td>\n",
       "    </tr>\n",
       "  </tbody>\n",
       "</table>\n",
       "</div>"
      ]
     },
     "execution_count": 48,
     "metadata": {
     },
     "output_type": "execute_result"
    }
   ],
   "source": [
    "#What movie had the highest number of ratings?\n",
    "ratings.sort_values('number_of_ratings', ascending=False).head(13)\n"
   ]
  },
  {
   "cell_type": "markdown",
   "metadata": {
    "collapsed": false
   },
   "source": [
    "<h2>Step 5: Visualize Your Data</h2>\n",
    "\n",
    "Generating data summary statistics sometimes is not enough on its own. It is always recommended that you visualize you data to find out what its distribution looks like. Let's start by generating a simple histogram."
   ]
  },
  {
   "cell_type": "code",
   "execution_count": 0,
   "metadata": {
    "collapsed": false
   },
   "outputs": [
   ],
   "source": [
   ]
  },
  {
   "cell_type": "code",
   "execution_count": 0,
   "metadata": {
    "collapsed": false
   },
   "outputs": [
    {
     "data": {
      "text/plain": [
       "<matplotlib.axes._subplots.AxesSubplot at 0x7f5c0025e978>"
      ]
     },
     "execution_count": 0,
     "metadata": {
     },
     "output_type": "execute_result"
    },
    {
     "data": {
      "image/png": "[encoded data removed]"
     },
     "execution_count": 0,
     "metadata": {
      "image/png": {
       "height": 250,
       "width": 383
      }
     },
     "output_type": "execute_result"
    }
   ],
   "source": [
    "#load the plotting packages \n",
    "import matplotlib.pyplot as plt\n",
    "import seaborn as sns\n",
    "%matplotlib inline\n",
    "\n",
    "#generate a histogram for rating variable in ratings dataframe. How many bins should we use?\n",
    "ratings['rating'].hist(bins=25)"
   ]
  },
  {
   "cell_type": "code",
   "execution_count": 0,
   "metadata": {
    "collapsed": false
   },
   "outputs": [
   ],
   "source": [
   ]
  },
  {
   "cell_type": "markdown",
   "metadata": {
    "collapsed": false
   },
   "source": [
    "#generate a histogram for the number_of_ratings variable in ratings data frame. How many bins should we use?\n",
    "ratings['number_of_ratings'].hist(bins=25)\n"
   ]
  },
  {
   "cell_type": "code",
   "execution_count": 63,
   "metadata": {
    "collapsed": false
   },
   "outputs": [
    {
     "data": {
      "text/plain": [
       "<seaborn.axisgrid.JointGrid at 0x7f5bffcf1fd0>"
      ]
     },
     "execution_count": 63,
     "metadata": {
     },
     "output_type": "execute_result"
    },
    {
     "data": {
      "image/png": "[encoded data removed]"
     },
     "execution_count": 63,
     "metadata": {
      "image/png": {
       "height": 422,
       "width": 425
      }
     },
     "output_type": "execute_result"
    }
   ],
   "source": [
    "#use seaborn package to generate a scatter plot of rating and number_of_ratings with histograms above\n",
    "sns.jointplot(x='rating', y='number_of_ratings', data=ratings)"
   ]
  },
  {
   "cell_type": "markdown",
   "metadata": {
    "collapsed": false
   },
   "source": [
    "<h2>Step 6: Create a Pivot Table</h2>\n",
    "\n",
    "Python provides a lot of flexibility when it comes to manipulatiung data shapes. For this application, we will need to reshape our data so that each row represents a user and each column represents a movie. One way to do this is by using the <b>`pivot_table`</b> function in pandas data frame. All you need to provide the function is the variable you want use as an index and the variable you want to expand as columns.  "
   ]
  },
  {
   "cell_type": "code",
   "execution_count": 120,
   "metadata": {
    "collapsed": false
   },
   "outputs": [
    {
     "data": {
      "text/html": [
       "<div>\n",
       "<style scoped>\n",
       "    .dataframe tbody tr th:only-of-type {\n",
       "        vertical-align: middle;\n",
       "    }\n",
       "\n",
       "    .dataframe tbody tr th {\n",
       "        vertical-align: top;\n",
       "    }\n",
       "\n",
       "    .dataframe thead th {\n",
       "        text-align: right;\n",
       "    }\n",
       "</style>\n",
       "<table border=\"1\" class=\"dataframe\">\n",
       "  <thead>\n",
       "    <tr style=\"text-align: right;\">\n",
       "      <th>title</th>\n",
       "      <th>'71 (2014)</th>\n",
       "      <th>'Hellboy': The Seeds of Creation (2004)</th>\n",
       "      <th>'Round Midnight (1986)</th>\n",
       "      <th>'Salem's Lot (2004)</th>\n",
       "      <th>'Til There Was You (1997)</th>\n",
       "      <th>'Tis the Season for Love (2015)</th>\n",
       "      <th>'burbs, The (1989)</th>\n",
       "      <th>'night Mother (1986)</th>\n",
       "      <th>(500) Days of Summer (2009)</th>\n",
       "      <th>*batteries not included (1987)</th>\n",
       "      <th>...</th>\n",
       "      <th>Zulu (2013)</th>\n",
       "      <th>[REC] (2007)</th>\n",
       "      <th>[REC]² (2009)</th>\n",
       "      <th>[REC]³ 3 Génesis (2012)</th>\n",
       "      <th>anohana: The Flower We Saw That Day - The Movie (2013)</th>\n",
       "      <th>eXistenZ (1999)</th>\n",
       "      <th>xXx (2002)</th>\n",
       "      <th>xXx: State of the Union (2005)</th>\n",
       "      <th>¡Three Amigos! (1986)</th>\n",
       "      <th>À nous la liberté (Freedom for Us) (1931)</th>\n",
       "    </tr>\n",
       "    <tr>\n",
       "      <th>userId</th>\n",
       "      <th></th>\n",
       "      <th></th>\n",
       "      <th></th>\n",
       "      <th></th>\n",
       "      <th></th>\n",
       "      <th></th>\n",
       "      <th></th>\n",
       "      <th></th>\n",
       "      <th></th>\n",
       "      <th></th>\n",
       "      <th></th>\n",
       "      <th></th>\n",
       "      <th></th>\n",
       "      <th></th>\n",
       "      <th></th>\n",
       "      <th></th>\n",
       "      <th></th>\n",
       "      <th></th>\n",
       "      <th></th>\n",
       "      <th></th>\n",
       "      <th></th>\n",
       "    </tr>\n",
       "  </thead>\n",
       "  <tbody>\n",
       "    <tr>\n",
       "      <th>1</th>\n",
       "      <td>NaN</td>\n",
       "      <td>NaN</td>\n",
       "      <td>NaN</td>\n",
       "      <td>NaN</td>\n",
       "      <td>NaN</td>\n",
       "      <td>NaN</td>\n",
       "      <td>NaN</td>\n",
       "      <td>NaN</td>\n",
       "      <td>NaN</td>\n",
       "      <td>NaN</td>\n",
       "      <td>...</td>\n",
       "      <td>NaN</td>\n",
       "      <td>NaN</td>\n",
       "      <td>NaN</td>\n",
       "      <td>NaN</td>\n",
       "      <td>NaN</td>\n",
       "      <td>NaN</td>\n",
       "      <td>NaN</td>\n",
       "      <td>NaN</td>\n",
       "      <td>4.0</td>\n",
       "      <td>NaN</td>\n",
       "    </tr>\n",
       "    <tr>\n",
       "      <th>2</th>\n",
       "      <td>NaN</td>\n",
       "      <td>NaN</td>\n",
       "      <td>NaN</td>\n",
       "      <td>NaN</td>\n",
       "      <td>NaN</td>\n",
       "      <td>NaN</td>\n",
       "      <td>NaN</td>\n",
       "      <td>NaN</td>\n",
       "      <td>NaN</td>\n",
       "      <td>NaN</td>\n",
       "      <td>...</td>\n",
       "      <td>NaN</td>\n",
       "      <td>NaN</td>\n",
       "      <td>NaN</td>\n",
       "      <td>NaN</td>\n",
       "      <td>NaN</td>\n",
       "      <td>NaN</td>\n",
       "      <td>NaN</td>\n",
       "      <td>NaN</td>\n",
       "      <td>NaN</td>\n",
       "      <td>NaN</td>\n",
       "    </tr>\n",
       "    <tr>\n",
       "      <th>3</th>\n",
       "      <td>NaN</td>\n",
       "      <td>NaN</td>\n",
       "      <td>NaN</td>\n",
       "      <td>NaN</td>\n",
       "      <td>NaN</td>\n",
       "      <td>NaN</td>\n",
       "      <td>NaN</td>\n",
       "      <td>NaN</td>\n",
       "      <td>NaN</td>\n",
       "      <td>NaN</td>\n",
       "      <td>...</td>\n",
       "      <td>NaN</td>\n",
       "      <td>NaN</td>\n",
       "      <td>NaN</td>\n",
       "      <td>NaN</td>\n",
       "      <td>NaN</td>\n",
       "      <td>NaN</td>\n",
       "      <td>NaN</td>\n",
       "      <td>NaN</td>\n",
       "      <td>NaN</td>\n",
       "      <td>NaN</td>\n",
       "    </tr>\n",
       "    <tr>\n",
       "      <th>4</th>\n",
       "      <td>NaN</td>\n",
       "      <td>NaN</td>\n",
       "      <td>NaN</td>\n",
       "      <td>NaN</td>\n",
       "      <td>NaN</td>\n",
       "      <td>NaN</td>\n",
       "      <td>NaN</td>\n",
       "      <td>NaN</td>\n",
       "      <td>NaN</td>\n",
       "      <td>NaN</td>\n",
       "      <td>...</td>\n",
       "      <td>NaN</td>\n",
       "      <td>NaN</td>\n",
       "      <td>NaN</td>\n",
       "      <td>NaN</td>\n",
       "      <td>NaN</td>\n",
       "      <td>NaN</td>\n",
       "      <td>NaN</td>\n",
       "      <td>NaN</td>\n",
       "      <td>NaN</td>\n",
       "      <td>NaN</td>\n",
       "    </tr>\n",
       "    <tr>\n",
       "      <th>5</th>\n",
       "      <td>NaN</td>\n",
       "      <td>NaN</td>\n",
       "      <td>NaN</td>\n",
       "      <td>NaN</td>\n",
       "      <td>NaN</td>\n",
       "      <td>NaN</td>\n",
       "      <td>NaN</td>\n",
       "      <td>NaN</td>\n",
       "      <td>NaN</td>\n",
       "      <td>NaN</td>\n",
       "      <td>...</td>\n",
       "      <td>NaN</td>\n",
       "      <td>NaN</td>\n",
       "      <td>NaN</td>\n",
       "      <td>NaN</td>\n",
       "      <td>NaN</td>\n",
       "      <td>NaN</td>\n",
       "      <td>NaN</td>\n",
       "      <td>NaN</td>\n",
       "      <td>NaN</td>\n",
       "      <td>NaN</td>\n",
       "    </tr>\n",
       "  </tbody>\n",
       "</table>\n",
       "<p>5 rows × 9719 columns</p>\n",
       "</div>"
      ]
     },
     "execution_count": 120,
     "metadata": {
     },
     "output_type": "execute_result"
    }
   ],
   "source": [
    "#use the pivot_table function to convert the current df\n",
    "movie_matrix = df.pivot_table(index='userId', columns='title', values='rating')\n",
    "\n",
    "#display the first few lines. Notice the NAs, what do they represent?\n",
    "movie_matrix.head(5)"
   ]
  },
  {
   "cell_type": "markdown",
   "metadata": {
    "collapsed": false
   },
   "source": [
    "<h2>Step 7: Compute Correlations</h2>\n",
    "\n",
    "We are almost there! We have transformed the data to be in the desired shape. We can now try selecting a movie and assessing the correlation of its rating profile with the rating profiles for all the other movies in the database. "
   ]
  },
  {
   "cell_type": "code",
   "execution_count": 121,
   "metadata": {
    "collapsed": false
   },
   "outputs": [
   ],
   "source": [
    "#let's select the Matrix movie!\n",
    "input_movie_user_rating = movie_matrix['Matrix, The (1999)']\n"
   ]
  },
  {
   "cell_type": "code",
   "execution_count": 122,
   "metadata": {
    "collapsed": false
   },
   "outputs": [
    {
     "data": {
      "text/plain": [
       "userId\n",
       "1    5.0\n",
       "2    NaN\n",
       "3    NaN\n",
       "4    1.0\n",
       "5    NaN\n",
       "Name: Matrix, The (1999), dtype: float64"
      ]
     },
     "execution_count": 122,
     "metadata": {
     },
     "output_type": "execute_result"
    }
   ],
   "source": [
    "#display the first few lines\n",
    "input_movie_user_rating.head()\n"
   ]
  },
  {
   "cell_type": "code",
   "execution_count": 123,
   "metadata": {
    "collapsed": false
   },
   "outputs": [
   ],
   "source": [
    "#find the correlation with all other movies\n",
    "similar_to_input_movie=movie_matrix.corrwith(input_movie_user_rating)\n"
   ]
  },
  {
   "cell_type": "code",
   "execution_count": 124,
   "metadata": {
    "collapsed": false
   },
   "outputs": [
    {
     "data": {
      "text/plain": [
       "title\n",
       "'71 (2014)                                                     NaN\n",
       "'Hellboy': The Seeds of Creation (2004)                        NaN\n",
       "'Round Midnight (1986)                                         NaN\n",
       "'Salem's Lot (2004)                                            NaN\n",
       "'Til There Was You (1997)                                      NaN\n",
       "'Tis the Season for Love (2015)                                NaN\n",
       "'burbs, The (1989)                                       -0.160843\n",
       "'night Mother (1986)                                           NaN\n",
       "(500) Days of Summer (2009)                               0.302316\n",
       "*batteries not included (1987)                            0.392232\n",
       "...All the Marbles (1981)                                      NaN\n",
       "...And Justice for All (1979)                             0.654654\n",
       "00 Schneider - Jagd auf Nihil Baxter (1994)                    NaN\n",
       "1-900 (06) (1994)                                              NaN\n",
       "10 (1979)                                                      NaN\n",
       "10 Cent Pistol (2015)                                    -1.000000\n",
       "10 Cloverfield Lane (2016)                                0.637813\n",
       "10 Items or Less (2006)                                   1.000000\n",
       "10 Things I Hate About You (1999)                         0.166496\n",
       "10 Years (2011)                                                NaN\n",
       "10,000 BC (2008)                                          0.205960\n",
       "100 Girls (2000)                                               NaN\n",
       "100 Streets (2016)                                             NaN\n",
       "101 Dalmatians (1996)                                     0.172258\n",
       "101 Dalmatians (One Hundred and One Dalmatians) (1961)   -0.019070\n",
       "101 Dalmatians II: Patch's London Adventure (2003)             NaN\n",
       "101 Reykjavik (101 Reykjavík) (2000)                           NaN\n",
       "102 Dalmatians (2000)                                    -0.152894\n",
       "10th & Wolf (2006)                                             NaN\n",
       "10th Kingdom, The (2000)                                       NaN\n",
       "                                                            ...   \n",
       "20,000 Leagues Under the Sea (1916)                            NaN\n",
       "20,000 Leagues Under the Sea (1954)                       0.136931\n",
       "200 Cigarettes (1999)                                     0.845154\n",
       "2001 Maniacs (2005)                                      -1.000000\n",
       "2001: A Space Odyssey (1968)                              0.137756\n",
       "2010: The Year We Make Contact (1984)                    -0.069604\n",
       "2012 (2009)                                               0.675622\n",
       "2046 (2004)                                               0.496139\n",
       "2048: Nowhere to Run (2017)                                    NaN\n",
       "21 (2008)                                                 0.006035\n",
       "21 Grams (2003)                                          -0.297595\n",
       "21 Jump Street (2012)                                    -0.230736\n",
       "21 Up (1977)                                                   NaN\n",
       "21 and Over (2013)                                       -1.000000\n",
       "22 Jump Street (2014)                                    -0.059740\n",
       "24 Hour Party People (2002)                              -0.625543\n",
       "25th Hour (2002)                                         -0.044327\n",
       "27 Dresses (2008)                                         0.535059\n",
       "28 Days (2000)                                            0.260378\n",
       "28 Days Later (2002)                                      0.395605\n",
       "28 Up (1985)                                                   NaN\n",
       "28 Weeks Later (2007)                                     0.514073\n",
       "3 Days to Kill (2014)                                          NaN\n",
       "3 Extremes (Three... Extremes) (Saam gaang yi) (2004)    -0.944911\n",
       "3 Idiots (2009)                                           1.000000\n",
       "3 Ninjas (1992)                                           0.574867\n",
       "3 Ninjas Kick Back (1994)                                 1.000000\n",
       "3 Ninjas Knuckle Up (1995)                                     NaN\n",
       "3 Ninjas: High Noon On Mega Mountain (1998)                    NaN\n",
       "3 Women (Three Women) (1977)                                   NaN\n",
       "Length: 100, dtype: float64"
      ]
     },
     "execution_count": 124,
     "metadata": {
     },
     "output_type": "execute_result"
    }
   ],
   "source": [
    "#what does the correlation look like?\n",
    "similar_to_input_movie.head(100)\n"
   ]
  },
  {
   "cell_type": "code",
   "execution_count": 0,
   "metadata": {
    "collapsed": false
   },
   "outputs": [
   ],
   "source": [
   ]
  },
  {
   "cell_type": "markdown",
   "metadata": {
    "collapsed": false
   },
   "source": [
    "<h2>Step 8: Drop Missing Values</h2>\n",
    "\n",
    "The correlations we generated above has a lot of missing values (NaN). This can be due to low number of data points available to assess the correlation. We need to remove all the missing values since these records are not providing us with information."
   ]
  },
  {
   "cell_type": "code",
   "execution_count": 79,
   "metadata": {
    "collapsed": false
   },
   "outputs": [
    {
     "data": {
      "text/html": [
       "<div>\n",
       "<style scoped>\n",
       "    .dataframe tbody tr th:only-of-type {\n",
       "        vertical-align: middle;\n",
       "    }\n",
       "\n",
       "    .dataframe tbody tr th {\n",
       "        vertical-align: top;\n",
       "    }\n",
       "\n",
       "    .dataframe thead th {\n",
       "        text-align: right;\n",
       "    }\n",
       "</style>\n",
       "<table border=\"1\" class=\"dataframe\">\n",
       "  <thead>\n",
       "    <tr style=\"text-align: right;\">\n",
       "      <th></th>\n",
       "      <th>correlation</th>\n",
       "    </tr>\n",
       "    <tr>\n",
       "      <th>title</th>\n",
       "      <th></th>\n",
       "    </tr>\n",
       "  </thead>\n",
       "  <tbody>\n",
       "    <tr>\n",
       "      <th>'burbs, The (1989)</th>\n",
       "      <td>-0.160843</td>\n",
       "    </tr>\n",
       "    <tr>\n",
       "      <th>(500) Days of Summer (2009)</th>\n",
       "      <td>0.302316</td>\n",
       "    </tr>\n",
       "    <tr>\n",
       "      <th>*batteries not included (1987)</th>\n",
       "      <td>0.392232</td>\n",
       "    </tr>\n",
       "    <tr>\n",
       "      <th>...And Justice for All (1979)</th>\n",
       "      <td>0.654654</td>\n",
       "    </tr>\n",
       "    <tr>\n",
       "      <th>10 Cent Pistol (2015)</th>\n",
       "      <td>-1.000000</td>\n",
       "    </tr>\n",
       "  </tbody>\n",
       "</table>\n",
       "</div>"
      ]
     },
     "execution_count": 79,
     "metadata": {
     },
     "output_type": "execute_result"
    }
   ],
   "source": [
    "#let's first create a data frame called corr_input_movie with the movie title as index and correlation as a column\n",
    "corr_input_movie = pd.DataFrame(similar_to_input_movie, columns=['correlation'])\n",
    "\n",
    "#now we can use dropna function to remove all NAs. Can you call the dropna method on the corr_input_movie dataframe? use inplace=True\n",
    "corr_input_movie.dropna(inplace=True)\n",
    "\n",
    "#display the first few lines\n",
    "corr_input_movie.head()"
   ]
  },
  {
   "cell_type": "markdown",
   "metadata": {
    "collapsed": false
   },
   "source": [
    "<h2>Step 9: Filter by Number of Ratings</h2>\n",
    "\n",
    "The more the ratings, the more confident we have that the recommendation we are making is accurate. In this section, we are going to overlay the number of ratings information per movie with the correlation we have so far. This will make our recommendation a lot better. We have already generated a rating count earlier, so we can just combine it with the correlation data frame. "
   ]
  },
  {
   "cell_type": "code",
   "execution_count": 85,
   "metadata": {
    "collapsed": false
   },
   "outputs": [
    {
     "data": {
      "text/html": [
       "<div>\n",
       "<style scoped>\n",
       "    .dataframe tbody tr th:only-of-type {\n",
       "        vertical-align: middle;\n",
       "    }\n",
       "\n",
       "    .dataframe tbody tr th {\n",
       "        vertical-align: top;\n",
       "    }\n",
       "\n",
       "    .dataframe thead th {\n",
       "        text-align: right;\n",
       "    }\n",
       "</style>\n",
       "<table border=\"1\" class=\"dataframe\">\n",
       "  <thead>\n",
       "    <tr style=\"text-align: right;\">\n",
       "      <th></th>\n",
       "      <th>correlation</th>\n",
       "      <th>number_of_ratings</th>\n",
       "    </tr>\n",
       "    <tr>\n",
       "      <th>title</th>\n",
       "      <th></th>\n",
       "      <th></th>\n",
       "    </tr>\n",
       "  </thead>\n",
       "  <tbody>\n",
       "    <tr>\n",
       "      <th>'burbs, The (1989)</th>\n",
       "      <td>-0.160843</td>\n",
       "      <td>17</td>\n",
       "    </tr>\n",
       "    <tr>\n",
       "      <th>(500) Days of Summer (2009)</th>\n",
       "      <td>0.302316</td>\n",
       "      <td>42</td>\n",
       "    </tr>\n",
       "    <tr>\n",
       "      <th>*batteries not included (1987)</th>\n",
       "      <td>0.392232</td>\n",
       "      <td>7</td>\n",
       "    </tr>\n",
       "    <tr>\n",
       "      <th>...And Justice for All (1979)</th>\n",
       "      <td>0.654654</td>\n",
       "      <td>3</td>\n",
       "    </tr>\n",
       "    <tr>\n",
       "      <th>10 Cent Pistol (2015)</th>\n",
       "      <td>-1.000000</td>\n",
       "      <td>2</td>\n",
       "    </tr>\n",
       "  </tbody>\n",
       "</table>\n",
       "</div>"
      ]
     },
     "execution_count": 85,
     "metadata": {
     },
     "output_type": "execute_result"
    }
   ],
   "source": [
    "corr_input_movie = corr_input_movie.join(ratings['number_of_ratings'])\n",
    "corr_input_movie.head()\n"
   ]
  },
  {
   "cell_type": "markdown",
   "metadata": {
    "collapsed": false
   },
   "source": [
    "<h2>Step 10: Display The Top 10 Recommendations</h2>"
   ]
  },
  {
   "cell_type": "code",
   "execution_count": 115,
   "metadata": {
    "collapsed": false
   },
   "outputs": [
    {
     "data": {
      "text/html": [
       "<div>\n",
       "<style scoped>\n",
       "    .dataframe tbody tr th:only-of-type {\n",
       "        vertical-align: middle;\n",
       "    }\n",
       "\n",
       "    .dataframe tbody tr th {\n",
       "        vertical-align: top;\n",
       "    }\n",
       "\n",
       "    .dataframe thead th {\n",
       "        text-align: right;\n",
       "    }\n",
       "</style>\n",
       "<table border=\"1\" class=\"dataframe\">\n",
       "  <thead>\n",
       "    <tr style=\"text-align: right;\">\n",
       "      <th></th>\n",
       "      <th>correlation</th>\n",
       "      <th>number_of_ratings</th>\n",
       "    </tr>\n",
       "    <tr>\n",
       "      <th>title</th>\n",
       "      <th></th>\n",
       "      <th></th>\n",
       "    </tr>\n",
       "  </thead>\n",
       "  <tbody>\n",
       "    <tr>\n",
       "      <th>Matrix, The (1999)</th>\n",
       "      <td>1.000000</td>\n",
       "      <td>278</td>\n",
       "    </tr>\n",
       "    <tr>\n",
       "      <th>Die Hard (1988)</th>\n",
       "      <td>0.544466</td>\n",
       "      <td>145</td>\n",
       "    </tr>\n",
       "    <tr>\n",
       "      <th>Inception (2010)</th>\n",
       "      <td>0.514767</td>\n",
       "      <td>143</td>\n",
       "    </tr>\n",
       "    <tr>\n",
       "      <th>Braveheart (1995)</th>\n",
       "      <td>0.496045</td>\n",
       "      <td>237</td>\n",
       "    </tr>\n",
       "    <tr>\n",
       "      <th>Aliens (1986)</th>\n",
       "      <td>0.470865</td>\n",
       "      <td>126</td>\n",
       "    </tr>\n",
       "    <tr>\n",
       "      <th>Lion King, The (1994)</th>\n",
       "      <td>0.444932</td>\n",
       "      <td>172</td>\n",
       "    </tr>\n",
       "    <tr>\n",
       "      <th>Monsters, Inc. (2001)</th>\n",
       "      <td>0.441205</td>\n",
       "      <td>132</td>\n",
       "    </tr>\n",
       "    <tr>\n",
       "      <th>Batman Begins (2005)</th>\n",
       "      <td>0.440338</td>\n",
       "      <td>116</td>\n",
       "    </tr>\n",
       "    <tr>\n",
       "      <th>Jurassic Park (1993)</th>\n",
       "      <td>0.427936</td>\n",
       "      <td>238</td>\n",
       "    </tr>\n",
       "    <tr>\n",
       "      <th>Fight Club (1999)</th>\n",
       "      <td>0.417196</td>\n",
       "      <td>218</td>\n",
       "    </tr>\n",
       "  </tbody>\n",
       "</table>\n",
       "</div>"
      ]
     },
     "execution_count": 115,
     "metadata": {
     },
     "output_type": "execute_result"
    }
   ],
   "source": [
    "#display the top 10 recommendations with number of ratings larger than 100\n",
    "corr_input_movie[corr_input_movie['number_of_ratings'] > 100 ].sort_values(by='correlation', ascending=False).head(10)"
   ]
  },
  {
   "cell_type": "code",
   "execution_count": 0,
   "metadata": {
    "collapsed": false
   },
   "outputs": [
   ],
   "source": [
   ]
  },
  {
   "cell_type": "raw",
   "metadata": {
    "collapsed": false
   },
   "source": [
    "<h4> Congratulations! You have built your first recommendation system in Python! Can you think of ways to improve this algorithm?</h4>\n",
    "\n",
    "\n",
    "\n",
    "<h4>Challenge: Convert the code above into a function that displays user friendly messages<h4>\n",
    "\n"
   ]
  },
  {
   "cell_type": "code",
   "execution_count": 114,
   "metadata": {
    "collapsed": false
   },
   "outputs": [
    {
     "name": "stdout",
     "output_type": "stream",
     "text": [
      "You might also like\n",
      "                       correlation  number_of_ratings\n",
      "title                                                \n",
      "Matrix, The (1999)        1.000000                278\n",
      "Die Hard (1988)           0.544466                145\n",
      "Inception (2010)          0.514767                143\n",
      "Braveheart (1995)         0.496045                237\n",
      "Aliens (1986)             0.470865                126\n",
      "Lion King, The (1994)     0.444932                172\n",
      "Monsters, Inc. (2001)     0.441205                132\n",
      "Batman Begins (2005)      0.440338                116\n",
      "Jurassic Park (1993)      0.427936                238\n",
      "Fight Club (1999)         0.417196                218\n"
     ]
    }
   ],
   "source": [
    "print(\"You might also like\")\n",
    "print(corr_input_movie[corr_input_movie['number_of_ratings'] > 100 ].sort_values(by='correlation', ascending=False).head(10))"
   ]
  },
  {
   "cell_type": "markdown",
   "metadata": {
    "collapsed": false
   },
   "source": [
   ]
  },
  {
   "cell_type": "raw",
   "metadata": {
    "collapsed": false
   },
   "source": [
   ]
  }
 ],
 "metadata": {
  "kernelspec": {
   "display_name": "Python 3 (system-wide)",
   "language": "python",
   "metadata": {
    "cocalc": {
     "description": "Python 3 programming language",
     "priority": 100,
     "url": "https://www.python.org/"
    }
   },
   "name": "python3"
  },
  "language_info": {
   "codemirror_mode": {
    "name": "ipython",
    "version": 3
   },
   "file_extension": ".py",
   "mimetype": "text/x-python",
   "name": "python",
   "nbconvert_exporter": "python",
   "pygments_lexer": "ipython3",
   "version": "3.6.9"
  }
 },
 "nbformat": 4,
 "nbformat_minor": 4
}